{
 "cells": [
  {
   "cell_type": "markdown",
   "metadata": {},
   "source": [
    "## Install requirements"
   ]
  },
  {
   "cell_type": "code",
   "execution_count": null,
   "metadata": {},
   "outputs": [],
   "source": [
    "# %pip install .[autogen]"
   ]
  },
  {
   "cell_type": "markdown",
   "metadata": {},
   "source": [
    "# Load OpenAI config"
   ]
  },
  {
   "cell_type": "code",
   "execution_count": null,
   "metadata": {},
   "outputs": [],
   "source": [
    "import os\n",
    "import sys\n",
    "from flaml import oai\n",
    "from flaml.autogen.agent import AssistantAgent, UserProxyAgent\n",
    "from flaml.autogen.agent.roleplay_agent import Message\n",
    "from flaml.autogen.chat import Chat\n",
    "\n",
    "OAI_CONFIG_LIST = \"../OAI_CONFIG_LIST.json\"\n",
    "config_list = oai.config_list_from_json(\n",
    "        OAI_CONFIG_LIST,\n",
    "    )\n",
    "config_list"
   ]
  },
  {
   "cell_type": "markdown",
   "metadata": {},
   "source": [
    "## Create roleplay chat and agents"
   ]
  },
  {
   "cell_type": "code",
   "execution_count": null,
   "metadata": {},
   "outputs": [],
   "source": [
    "bob = AssistantAgent(\n",
    "        name=\"Bob\",\n",
    "        system_message=\"A helpful AI assistant.\",\n",
    "        oai_config={\n",
    "            \"temperature\": 0.8,\n",
    "            \"config_list\": config_list,\n",
    "            \"model\": 'gpt-3.5-turbo',\n",
    "            })\n",
    "    \n",
    "alice = AssistantAgent(\n",
    "        name=\"Alice\",\n",
    "        system_message=\"A helpful AI assistant.\",\n",
    "        oai_config={\n",
    "            \"temperature\": 0.8,\n",
    "            \"config_list\": config_list,\n",
    "            \"model\": 'gpt-3.5-turbo',\n",
    "            })\n",
    "    \n",
    "human = UserProxyAgent(\n",
    "        name=\"Human\",\n",
    "        system_message=\"A human admin.\",\n",
    "        human_input_mode=\"ALWAYS\")\n",
    "chat = Chat(human, [bob, alice])"
   ]
  },
  {
   "cell_type": "markdown",
   "metadata": {},
   "source": [
    "## Casual chat with the agents"
   ]
  },
  {
   "cell_type": "code",
   "execution_count": null,
   "metadata": {},
   "outputs": [],
   "source": [
    "input = Message(\n",
    "        human.name,\n",
    "        \"\"\"Hey @Alice and @Bob, I'm Admin in this group. I'm going to announce a few rules here: 1. always use @ to mention someone in your message.  2. always listen to Admin.\"\"\")\n",
    "chat.role_play(input, max_round=20)"
   ]
  }
 ],
 "metadata": {
  "kernelspec": {
   "display_name": "venv",
   "language": "python",
   "name": "python3"
  },
  "language_info": {
   "codemirror_mode": {
    "name": "ipython",
    "version": 3
   },
   "file_extension": ".py",
   "mimetype": "text/x-python",
   "name": "python",
   "nbconvert_exporter": "python",
   "pygments_lexer": "ipython3",
   "version": "3.11.2"
  },
  "orig_nbformat": 4
 },
 "nbformat": 4,
 "nbformat_minor": 2
}
